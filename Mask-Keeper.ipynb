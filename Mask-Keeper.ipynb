{
 "cells": [
  {
   "cell_type": "code",
   "execution_count": 1,
   "id": "705dc9c8",
   "metadata": {},
   "outputs": [],
   "source": [
    "import numpy as np\n",
    "import cv2"
   ]
  },
  {
   "cell_type": "code",
   "execution_count": 2,
   "id": "14ca0dd4",
   "metadata": {},
   "outputs": [],
   "source": [
    "with_mask = np.load('with_mask.npy')\n",
    "without_mask = np.load('without_mask.npy')"
   ]
  },
  {
   "cell_type": "code",
   "execution_count": 3,
   "id": "455ca658",
   "metadata": {},
   "outputs": [
    {
     "data": {
      "text/plain": [
       "(200, 50, 50, 3)"
      ]
     },
     "execution_count": 3,
     "metadata": {},
     "output_type": "execute_result"
    }
   ],
   "source": [
    "with_mask.shape"
   ]
  },
  {
   "cell_type": "code",
   "execution_count": 4,
   "id": "c6f6aaf8",
   "metadata": {},
   "outputs": [
    {
     "data": {
      "text/plain": [
       "(200, 50, 50, 3)"
      ]
     },
     "execution_count": 4,
     "metadata": {},
     "output_type": "execute_result"
    }
   ],
   "source": [
    "without_mask.shape"
   ]
  },
  {
   "cell_type": "code",
   "execution_count": 5,
   "id": "d6058afe",
   "metadata": {},
   "outputs": [],
   "source": [
    "with_mask = with_mask.reshape(200,50 * 50 * 3)\n",
    "without_mask = without_mask.reshape(200,50 * 50 * 3)"
   ]
  },
  {
   "cell_type": "code",
   "execution_count": 6,
   "id": "7f89d74f",
   "metadata": {},
   "outputs": [
    {
     "data": {
      "text/plain": [
       "(200, 7500)"
      ]
     },
     "execution_count": 6,
     "metadata": {},
     "output_type": "execute_result"
    }
   ],
   "source": [
    "with_mask.shape"
   ]
  },
  {
   "cell_type": "code",
   "execution_count": 7,
   "id": "b0b4a2ff",
   "metadata": {},
   "outputs": [
    {
     "data": {
      "text/plain": [
       "(200, 7500)"
      ]
     },
     "execution_count": 7,
     "metadata": {},
     "output_type": "execute_result"
    }
   ],
   "source": [
    "without_mask.shape"
   ]
  },
  {
   "cell_type": "code",
   "execution_count": 8,
   "id": "281f956f",
   "metadata": {},
   "outputs": [],
   "source": [
    "X = np.r_[with_mask, without_mask]"
   ]
  },
  {
   "cell_type": "code",
   "execution_count": 9,
   "id": "45bf5037",
   "metadata": {},
   "outputs": [
    {
     "data": {
      "text/plain": [
       "(400, 7500)"
      ]
     },
     "execution_count": 9,
     "metadata": {},
     "output_type": "execute_result"
    }
   ],
   "source": [
    "X.shape"
   ]
  },
  {
   "cell_type": "code",
   "execution_count": 10,
   "id": "8b115fbf",
   "metadata": {},
   "outputs": [],
   "source": [
    "labels = np.zeros(X.shape[0])"
   ]
  },
  {
   "cell_type": "code",
   "execution_count": 11,
   "id": "7a3e1fa6",
   "metadata": {},
   "outputs": [],
   "source": [
    "labels[200:] = 1.0"
   ]
  },
  {
   "cell_type": "code",
   "execution_count": 12,
   "id": "f6f89aa1",
   "metadata": {},
   "outputs": [],
   "source": [
    "names = {0 : 'Mask', 1 : 'No Mask'}"
   ]
  },
  {
   "cell_type": "code",
   "execution_count": 13,
   "id": "9893c99f",
   "metadata": {},
   "outputs": [],
   "source": [
    "from sklearn.svm import SVC\n",
    "from sklearn.metrics import accuracy_score"
   ]
  },
  {
   "cell_type": "code",
   "execution_count": 14,
   "id": "0a059ea6",
   "metadata": {},
   "outputs": [],
   "source": [
    "from sklearn.model_selection import train_test_split"
   ]
  },
  {
   "cell_type": "code",
   "execution_count": 15,
   "id": "025c9c29",
   "metadata": {},
   "outputs": [],
   "source": [
    "x_train, x_test, y_train, y_test = train_test_split(X,labels, test_size=0.25)"
   ]
  },
  {
   "cell_type": "code",
   "execution_count": 16,
   "id": "6bd22339",
   "metadata": {},
   "outputs": [
    {
     "data": {
      "text/plain": [
       "(300, 7500)"
      ]
     },
     "execution_count": 16,
     "metadata": {},
     "output_type": "execute_result"
    }
   ],
   "source": [
    "x_train.shape"
   ]
  },
  {
   "cell_type": "code",
   "execution_count": 17,
   "id": "323436a2",
   "metadata": {},
   "outputs": [
    {
     "data": {
      "text/plain": [
       "SVC()"
      ]
     },
     "execution_count": 17,
     "metadata": {},
     "output_type": "execute_result"
    }
   ],
   "source": [
    "svm = SVC()\n",
    "svm.fit(x_train, y_train)"
   ]
  },
  {
   "cell_type": "code",
   "execution_count": 18,
   "id": "9b8e5611",
   "metadata": {},
   "outputs": [],
   "source": [
    "# x_test = pca.transform(x_test)\n",
    "y_pred = svm.predict(x_test)"
   ]
  },
  {
   "cell_type": "code",
   "execution_count": 19,
   "id": "c353aeaf",
   "metadata": {},
   "outputs": [
    {
     "data": {
      "text/plain": [
       "1.0"
      ]
     },
     "execution_count": 19,
     "metadata": {},
     "output_type": "execute_result"
    }
   ],
   "source": [
    "accuracy_score(y_test, y_pred)"
   ]
  },
  {
   "cell_type": "code",
   "execution_count": 20,
   "id": "bccd2b06",
   "metadata": {},
   "outputs": [
    {
     "name": "stdout",
     "output_type": "stream",
     "text": [
      "No Mask\n",
      "No Mask\n",
      "No Mask\n",
      "No Mask\n",
      "No Mask\n",
      "No Mask\n",
      "No Mask\n",
      "No Mask\n",
      "No Mask\n",
      "No Mask\n",
      "No Mask\n",
      "No Mask\n",
      "No Mask\n",
      "No Mask\n",
      "No Mask\n",
      "No Mask\n",
      "No Mask\n",
      "No Mask\n",
      "No Mask\n",
      "No Mask\n",
      "No Mask\n",
      "No Mask\n",
      "No Mask\n",
      "No Mask\n",
      "No Mask\n",
      "No Mask\n",
      "No Mask\n",
      "No Mask\n",
      "No Mask\n",
      "No Mask\n",
      "No Mask\n",
      "No Mask\n",
      "No Mask\n",
      "No Mask\n",
      "No Mask\n",
      "No Mask\n",
      "No Mask\n",
      "No Mask\n",
      "No Mask\n",
      "No Mask\n",
      "No Mask\n",
      "No Mask\n",
      "No Mask\n",
      "No Mask\n",
      "No Mask\n",
      "No Mask\n",
      "No Mask\n",
      "No Mask\n",
      "No Mask\n",
      "No Mask\n",
      "No Mask\n",
      "No Mask\n",
      "No Mask\n",
      "No Mask\n",
      "No Mask\n",
      "No Mask\n",
      "No Mask\n",
      "No Mask\n",
      "No Mask\n",
      "No Mask\n",
      "No Mask\n",
      "No Mask\n",
      "No Mask\n",
      "No Mask\n",
      "No Mask\n",
      "No Mask\n",
      "No Mask\n",
      "No Mask\n",
      "No Mask\n",
      "No Mask\n",
      "No Mask\n",
      "No Mask\n",
      "No Mask\n",
      "No Mask\n",
      "No Mask\n",
      "No Mask\n",
      "No Mask\n",
      "No Mask\n",
      "No Mask\n",
      "No Mask\n",
      "No Mask\n",
      "No Mask\n",
      "No Mask\n",
      "No Mask\n",
      "No Mask\n",
      "No Mask\n",
      "No Mask\n",
      "No Mask\n",
      "No Mask\n",
      "No Mask\n",
      "No Mask\n",
      "No Mask\n",
      "No Mask\n",
      "No Mask\n",
      "No Mask\n",
      "No Mask\n",
      "No Mask\n",
      "No Mask\n",
      "No Mask\n",
      "No Mask\n",
      "No Mask\n",
      "No Mask\n",
      "No Mask\n",
      "No Mask\n",
      "No Mask\n",
      "No Mask\n",
      "No Mask\n",
      "No Mask\n",
      "No Mask\n",
      "No Mask\n",
      "No Mask\n",
      "No Mask\n",
      "No Mask\n",
      "No Mask\n",
      "No Mask\n",
      "No Mask\n",
      "No Mask\n",
      "No Mask\n",
      "No Mask\n",
      "No Mask\n",
      "Mask\n",
      "No Mask\n",
      "Mask\n",
      "No Mask\n",
      "Mask\n",
      "No Mask\n",
      "Mask\n",
      "No Mask\n",
      "Mask\n",
      "Mask\n",
      "Mask\n",
      "Mask\n",
      "Mask\n",
      "Mask\n",
      "Mask\n",
      "Mask\n",
      "Mask\n",
      "Mask\n",
      "Mask\n",
      "Mask\n",
      "Mask\n",
      "Mask\n",
      "Mask\n",
      "Mask\n",
      "Mask\n",
      "Mask\n",
      "Mask\n",
      "Mask\n",
      "Mask\n",
      "Mask\n",
      "Mask\n",
      "Mask\n",
      "Mask\n",
      "Mask\n",
      "Mask\n",
      "Mask\n",
      "Mask\n",
      "Mask\n",
      "Mask\n",
      "Mask\n",
      "Mask\n",
      "Mask\n",
      "Mask\n",
      "Mask\n",
      "Mask\n",
      "Mask\n",
      "Mask\n",
      "Mask\n",
      "Mask\n",
      "Mask\n",
      "Mask\n",
      "Mask\n",
      "Mask\n",
      "Mask\n",
      "Mask\n",
      "Mask\n",
      "Mask\n",
      "Mask\n",
      "Mask\n",
      "Mask\n",
      "Mask\n",
      "Mask\n",
      "Mask\n",
      "Mask\n",
      "Mask\n",
      "Mask\n",
      "Mask\n",
      "Mask\n",
      "Mask\n",
      "Mask\n",
      "Mask\n",
      "Mask\n",
      "Mask\n",
      "Mask\n",
      "Mask\n",
      "Mask\n",
      "Mask\n",
      "Mask\n",
      "Mask\n",
      "Mask\n",
      "Mask\n",
      "Mask\n",
      "Mask\n",
      "Mask\n",
      "Mask\n",
      "Mask\n",
      "Mask\n",
      "Mask\n",
      "Mask\n",
      "Mask\n",
      "Mask\n",
      "Mask\n",
      "Mask\n",
      "Mask\n",
      "Mask\n",
      "Mask\n",
      "Mask\n",
      "Mask\n",
      "Mask\n",
      "Mask\n",
      "Mask\n",
      "Mask\n",
      "Mask\n",
      "Mask\n",
      "Mask\n",
      "Mask\n",
      "Mask\n",
      "Mask\n",
      "Mask\n",
      "Mask\n",
      "Mask\n",
      "Mask\n",
      "Mask\n",
      "Mask\n",
      "Mask\n",
      "Mask\n",
      "Mask\n",
      "Mask\n",
      "Mask\n",
      "No Mask\n",
      "No Mask\n",
      "No Mask\n",
      "No Mask\n",
      "No Mask\n",
      "No Mask\n",
      "No Mask\n",
      "No Mask\n",
      "No Mask\n",
      "No Mask\n",
      "No Mask\n",
      "No Mask\n",
      "No Mask\n",
      "No Mask\n",
      "No Mask\n",
      "No Mask\n",
      "No Mask\n",
      "No Mask\n",
      "No Mask\n",
      "No Mask\n",
      "No Mask\n",
      "No Mask\n",
      "No Mask\n",
      "No Mask\n",
      "No Mask\n",
      "No Mask\n",
      "No Mask\n",
      "No Mask\n",
      "No Mask\n",
      "No Mask\n",
      "No Mask\n",
      "No Mask\n",
      "No Mask\n",
      "No Mask\n",
      "No Mask\n",
      "No Mask\n",
      "No Mask\n",
      "No Mask\n",
      "No Mask\n",
      "No Mask\n",
      "No Mask\n",
      "No Mask\n",
      "No Mask\n",
      "No Mask\n",
      "No Mask\n",
      "No Mask\n",
      "No Mask\n",
      "No Mask\n",
      "No Mask\n",
      "No Mask\n",
      "No Mask\n",
      "No Mask\n",
      "No Mask\n",
      "No Mask\n",
      "No Mask\n",
      "No Mask\n",
      "No Mask\n",
      "No Mask\n",
      "No Mask\n",
      "No Mask\n",
      "No Mask\n",
      "No Mask\n",
      "No Mask\n",
      "No Mask\n",
      "No Mask\n",
      "No Mask\n",
      "No Mask\n",
      "No Mask\n",
      "No Mask\n",
      "No Mask\n",
      "No Mask\n",
      "No Mask\n",
      "No Mask\n",
      "No Mask\n",
      "No Mask\n",
      "No Mask\n",
      "No Mask\n",
      "No Mask\n",
      "No Mask\n",
      "No Mask\n",
      "No Mask\n",
      "No Mask\n",
      "No Mask\n",
      "No Mask\n",
      "No Mask\n",
      "No Mask\n",
      "No Mask\n",
      "No Mask\n",
      "No Mask\n",
      "No Mask\n",
      "No Mask\n",
      "No Mask\n",
      "No Mask\n",
      "No Mask\n",
      "No Mask\n",
      "No Mask\n",
      "No Mask\n",
      "No Mask\n",
      "No Mask\n",
      "No Mask\n",
      "No Mask\n",
      "No Mask\n",
      "No Mask\n",
      "No Mask\n",
      "No Mask\n",
      "No Mask\n",
      "No Mask\n",
      "No Mask\n",
      "No Mask\n",
      "No Mask\n",
      "No Mask\n",
      "No Mask\n",
      "No Mask\n",
      "No Mask\n",
      "No Mask\n",
      "No Mask\n",
      "No Mask\n",
      "No Mask\n",
      "No Mask\n",
      "No Mask\n",
      "No Mask\n",
      "No Mask\n",
      "No Mask\n",
      "No Mask\n",
      "No Mask\n",
      "No Mask\n",
      "No Mask\n",
      "No Mask\n",
      "No Mask\n",
      "No Mask\n",
      "No Mask\n",
      "No Mask\n",
      "No Mask\n",
      "No Mask\n",
      "No Mask\n",
      "No Mask\n",
      "No Mask\n",
      "No Mask\n",
      "No Mask\n",
      "No Mask\n",
      "No Mask\n",
      "No Mask\n",
      "No Mask\n",
      "No Mask\n",
      "No Mask\n",
      "No Mask\n",
      "No Mask\n",
      "No Mask\n",
      "No Mask\n",
      "No Mask\n",
      "No Mask\n",
      "No Mask\n",
      "No Mask\n",
      "No Mask\n",
      "No Mask\n",
      "No Mask\n",
      "No Mask\n",
      "No Mask\n",
      "No Mask\n",
      "No Mask\n",
      "No Mask\n",
      "No Mask\n",
      "No Mask\n",
      "No Mask\n",
      "No Mask\n",
      "No Mask\n",
      "No Mask\n",
      "No Mask\n",
      "No Mask\n",
      "No Mask\n",
      "No Mask\n",
      "No Mask\n",
      "No Mask\n",
      "No Mask\n",
      "No Mask\n",
      "No Mask\n",
      "No Mask\n",
      "No Mask\n",
      "No Mask\n",
      "No Mask\n",
      "No Mask\n",
      "No Mask\n",
      "No Mask\n",
      "No Mask\n",
      "No Mask\n",
      "No Mask\n",
      "No Mask\n",
      "No Mask\n",
      "No Mask\n",
      "No Mask\n",
      "No Mask\n",
      "No Mask\n",
      "No Mask\n",
      "No Mask\n",
      "No Mask\n",
      "No Mask\n",
      "No Mask\n",
      "Mask\n",
      "Mask\n",
      "Mask\n",
      "Mask\n",
      "Mask\n",
      "Mask\n",
      "Mask\n",
      "Mask\n",
      "Mask\n",
      "Mask\n",
      "Mask\n",
      "Mask\n",
      "Mask\n",
      "Mask\n",
      "Mask\n",
      "Mask\n",
      "Mask\n",
      "Mask\n",
      "Mask\n",
      "Mask\n",
      "Mask\n",
      "Mask\n",
      "Mask\n"
     ]
    },
    {
     "ename": "KeyboardInterrupt",
     "evalue": "",
     "output_type": "error",
     "traceback": [
      "\u001b[1;31m---------------------------------------------------------------------------\u001b[0m",
      "\u001b[1;31mKeyboardInterrupt\u001b[0m                         Traceback (most recent call last)",
      "\u001b[1;32m~\\AppData\\Local\\Temp/ipykernel_27700/80180715.py\u001b[0m in \u001b[0;36m<module>\u001b[1;34m\u001b[0m\n\u001b[0;32m      6\u001b[0m     \u001b[0mflag\u001b[0m\u001b[1;33m,\u001b[0m \u001b[0mimg\u001b[0m \u001b[1;33m=\u001b[0m \u001b[0mcapture\u001b[0m\u001b[1;33m.\u001b[0m\u001b[0mread\u001b[0m\u001b[1;33m(\u001b[0m\u001b[1;33m)\u001b[0m\u001b[1;33m\u001b[0m\u001b[1;33m\u001b[0m\u001b[0m\n\u001b[0;32m      7\u001b[0m     \u001b[1;32mif\u001b[0m \u001b[0mflag\u001b[0m\u001b[1;33m:\u001b[0m\u001b[1;33m\u001b[0m\u001b[1;33m\u001b[0m\u001b[0m\n\u001b[1;32m----> 8\u001b[1;33m         \u001b[0mfaces\u001b[0m \u001b[1;33m=\u001b[0m \u001b[0mhaar_data\u001b[0m\u001b[1;33m.\u001b[0m\u001b[0mdetectMultiScale\u001b[0m\u001b[1;33m(\u001b[0m\u001b[0mimg\u001b[0m\u001b[1;33m)\u001b[0m\u001b[1;33m\u001b[0m\u001b[1;33m\u001b[0m\u001b[0m\n\u001b[0m\u001b[0;32m      9\u001b[0m         \u001b[1;32mfor\u001b[0m \u001b[0mx\u001b[0m\u001b[1;33m,\u001b[0m\u001b[0my\u001b[0m\u001b[1;33m,\u001b[0m\u001b[0mw\u001b[0m\u001b[1;33m,\u001b[0m\u001b[0mh\u001b[0m \u001b[1;32min\u001b[0m \u001b[0mfaces\u001b[0m\u001b[1;33m:\u001b[0m\u001b[1;33m\u001b[0m\u001b[1;33m\u001b[0m\u001b[0m\n\u001b[0;32m     10\u001b[0m             \u001b[0mcv2\u001b[0m\u001b[1;33m.\u001b[0m\u001b[0mrectangle\u001b[0m\u001b[1;33m(\u001b[0m\u001b[0mimg\u001b[0m\u001b[1;33m,\u001b[0m \u001b[1;33m(\u001b[0m\u001b[0mx\u001b[0m\u001b[1;33m,\u001b[0m\u001b[0my\u001b[0m\u001b[1;33m)\u001b[0m\u001b[1;33m,\u001b[0m \u001b[1;33m(\u001b[0m\u001b[0mx\u001b[0m\u001b[1;33m+\u001b[0m\u001b[0mw\u001b[0m\u001b[1;33m,\u001b[0m \u001b[0my\u001b[0m\u001b[1;33m+\u001b[0m\u001b[0mh\u001b[0m\u001b[1;33m)\u001b[0m\u001b[1;33m,\u001b[0m \u001b[1;33m(\u001b[0m\u001b[1;36m50\u001b[0m\u001b[1;33m,\u001b[0m\u001b[1;36m205\u001b[0m\u001b[1;33m,\u001b[0m\u001b[1;36m5\u001b[0m\u001b[1;33m)\u001b[0m\u001b[1;33m,\u001b[0m \u001b[1;36m3\u001b[0m\u001b[1;33m)\u001b[0m\u001b[1;33m\u001b[0m\u001b[1;33m\u001b[0m\u001b[0m\n",
      "\u001b[1;31mKeyboardInterrupt\u001b[0m: "
     ]
    }
   ],
   "source": [
    "haar_data = cv2.CascadeClassifier('haarcascade_frontalface_default.xml')\n",
    "capture = cv2.VideoCapture(0)\n",
    "data = []\n",
    "font = cv2.FONT_HERSHEY_COMPLEX\n",
    "while True:\n",
    "    flag, img = capture.read()\n",
    "    if flag:\n",
    "        faces = haar_data.detectMultiScale(img)\n",
    "        for x,y,w,h in faces:\n",
    "            cv2.rectangle(img, (x,y), (x+w, y+h), (50,205,5), 3)\n",
    "            face = img[y:y+h, x:x+w, :]\n",
    "            face = cv2.resize(face, (50,50))\n",
    "            face = face.reshape(1,-1)\n",
    "            pred = svm.predict(face)[0]\n",
    "            n = names[int(pred)]\n",
    "            cv2.putText(img, n, (x,y), font, 1, (244,250,250), 2)\n",
    "            print(n)\n",
    "        cv2.imshow('result',img)\n",
    "        if cv2.waitKey(2) == 27:\n",
    "            break\n",
    "\n",
    "capture.release()\n",
    "cv2.destroyAllWindows()"
   ]
  },
  {
   "cell_type": "code",
   "execution_count": null,
   "id": "b06fa6c0",
   "metadata": {},
   "outputs": [],
   "source": []
  }
 ],
 "metadata": {
  "kernelspec": {
   "display_name": "Python 3 (ipykernel)",
   "language": "python",
   "name": "python3"
  },
  "language_info": {
   "codemirror_mode": {
    "name": "ipython",
    "version": 3
   },
   "file_extension": ".py",
   "mimetype": "text/x-python",
   "name": "python",
   "nbconvert_exporter": "python",
   "pygments_lexer": "ipython3",
   "version": "3.9.7"
  }
 },
 "nbformat": 4,
 "nbformat_minor": 5
}
